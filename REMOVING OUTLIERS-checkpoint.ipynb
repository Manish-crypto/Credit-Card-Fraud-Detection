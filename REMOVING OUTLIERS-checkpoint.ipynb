{
 "cells": [
  {
   "cell_type": "code",
   "execution_count": 1,
   "metadata": {},
   "outputs": [],
   "source": [
    "import pandas as pd\n",
    "import numpy as np\n",
    "import seaborn as sns\n",
    "import matplotlib.pyplot as plt\n",
    "\n",
    "from sklearn.neighbors import LocalOutlierFactor"
   ]
  },
  {
   "cell_type": "code",
   "execution_count": 2,
   "metadata": {},
   "outputs": [],
   "source": [
    "data = pd.read_csv(\"creditcard.csv\")"
   ]
  },
  {
   "cell_type": "code",
   "execution_count": 3,
   "metadata": {},
   "outputs": [
    {
     "data": {
      "text/plain": [
       "(284807, 31)"
      ]
     },
     "execution_count": 3,
     "metadata": {},
     "output_type": "execute_result"
    }
   ],
   "source": [
    "data.shape"
   ]
  },
  {
   "cell_type": "code",
   "execution_count": 4,
   "metadata": {},
   "outputs": [
    {
     "data": {
      "text/html": [
       "<div>\n",
       "<style scoped>\n",
       "    .dataframe tbody tr th:only-of-type {\n",
       "        vertical-align: middle;\n",
       "    }\n",
       "\n",
       "    .dataframe tbody tr th {\n",
       "        vertical-align: top;\n",
       "    }\n",
       "\n",
       "    .dataframe thead th {\n",
       "        text-align: right;\n",
       "    }\n",
       "</style>\n",
       "<table border=\"1\" class=\"dataframe\">\n",
       "  <thead>\n",
       "    <tr style=\"text-align: right;\">\n",
       "      <th></th>\n",
       "      <th>Time</th>\n",
       "      <th>V1</th>\n",
       "      <th>V2</th>\n",
       "      <th>V3</th>\n",
       "      <th>V4</th>\n",
       "      <th>V5</th>\n",
       "      <th>V6</th>\n",
       "      <th>V7</th>\n",
       "      <th>V8</th>\n",
       "      <th>V9</th>\n",
       "      <th>...</th>\n",
       "      <th>V21</th>\n",
       "      <th>V22</th>\n",
       "      <th>V23</th>\n",
       "      <th>V24</th>\n",
       "      <th>V25</th>\n",
       "      <th>V26</th>\n",
       "      <th>V27</th>\n",
       "      <th>V28</th>\n",
       "      <th>Amount</th>\n",
       "      <th>Class</th>\n",
       "    </tr>\n",
       "  </thead>\n",
       "  <tbody>\n",
       "    <tr>\n",
       "      <th>0</th>\n",
       "      <td>0.0</td>\n",
       "      <td>-1.359807</td>\n",
       "      <td>-0.072781</td>\n",
       "      <td>2.536347</td>\n",
       "      <td>1.378155</td>\n",
       "      <td>-0.338321</td>\n",
       "      <td>0.462388</td>\n",
       "      <td>0.239599</td>\n",
       "      <td>0.098698</td>\n",
       "      <td>0.363787</td>\n",
       "      <td>...</td>\n",
       "      <td>-0.018307</td>\n",
       "      <td>0.277838</td>\n",
       "      <td>-0.110474</td>\n",
       "      <td>0.066928</td>\n",
       "      <td>0.128539</td>\n",
       "      <td>-0.189115</td>\n",
       "      <td>0.133558</td>\n",
       "      <td>-0.021053</td>\n",
       "      <td>149.62</td>\n",
       "      <td>0</td>\n",
       "    </tr>\n",
       "    <tr>\n",
       "      <th>1</th>\n",
       "      <td>0.0</td>\n",
       "      <td>1.191857</td>\n",
       "      <td>0.266151</td>\n",
       "      <td>0.166480</td>\n",
       "      <td>0.448154</td>\n",
       "      <td>0.060018</td>\n",
       "      <td>-0.082361</td>\n",
       "      <td>-0.078803</td>\n",
       "      <td>0.085102</td>\n",
       "      <td>-0.255425</td>\n",
       "      <td>...</td>\n",
       "      <td>-0.225775</td>\n",
       "      <td>-0.638672</td>\n",
       "      <td>0.101288</td>\n",
       "      <td>-0.339846</td>\n",
       "      <td>0.167170</td>\n",
       "      <td>0.125895</td>\n",
       "      <td>-0.008983</td>\n",
       "      <td>0.014724</td>\n",
       "      <td>2.69</td>\n",
       "      <td>0</td>\n",
       "    </tr>\n",
       "    <tr>\n",
       "      <th>2</th>\n",
       "      <td>1.0</td>\n",
       "      <td>-1.358354</td>\n",
       "      <td>-1.340163</td>\n",
       "      <td>1.773209</td>\n",
       "      <td>0.379780</td>\n",
       "      <td>-0.503198</td>\n",
       "      <td>1.800499</td>\n",
       "      <td>0.791461</td>\n",
       "      <td>0.247676</td>\n",
       "      <td>-1.514654</td>\n",
       "      <td>...</td>\n",
       "      <td>0.247998</td>\n",
       "      <td>0.771679</td>\n",
       "      <td>0.909412</td>\n",
       "      <td>-0.689281</td>\n",
       "      <td>-0.327642</td>\n",
       "      <td>-0.139097</td>\n",
       "      <td>-0.055353</td>\n",
       "      <td>-0.059752</td>\n",
       "      <td>378.66</td>\n",
       "      <td>0</td>\n",
       "    </tr>\n",
       "    <tr>\n",
       "      <th>3</th>\n",
       "      <td>1.0</td>\n",
       "      <td>-0.966272</td>\n",
       "      <td>-0.185226</td>\n",
       "      <td>1.792993</td>\n",
       "      <td>-0.863291</td>\n",
       "      <td>-0.010309</td>\n",
       "      <td>1.247203</td>\n",
       "      <td>0.237609</td>\n",
       "      <td>0.377436</td>\n",
       "      <td>-1.387024</td>\n",
       "      <td>...</td>\n",
       "      <td>-0.108300</td>\n",
       "      <td>0.005274</td>\n",
       "      <td>-0.190321</td>\n",
       "      <td>-1.175575</td>\n",
       "      <td>0.647376</td>\n",
       "      <td>-0.221929</td>\n",
       "      <td>0.062723</td>\n",
       "      <td>0.061458</td>\n",
       "      <td>123.50</td>\n",
       "      <td>0</td>\n",
       "    </tr>\n",
       "    <tr>\n",
       "      <th>4</th>\n",
       "      <td>2.0</td>\n",
       "      <td>-1.158233</td>\n",
       "      <td>0.877737</td>\n",
       "      <td>1.548718</td>\n",
       "      <td>0.403034</td>\n",
       "      <td>-0.407193</td>\n",
       "      <td>0.095921</td>\n",
       "      <td>0.592941</td>\n",
       "      <td>-0.270533</td>\n",
       "      <td>0.817739</td>\n",
       "      <td>...</td>\n",
       "      <td>-0.009431</td>\n",
       "      <td>0.798278</td>\n",
       "      <td>-0.137458</td>\n",
       "      <td>0.141267</td>\n",
       "      <td>-0.206010</td>\n",
       "      <td>0.502292</td>\n",
       "      <td>0.219422</td>\n",
       "      <td>0.215153</td>\n",
       "      <td>69.99</td>\n",
       "      <td>0</td>\n",
       "    </tr>\n",
       "  </tbody>\n",
       "</table>\n",
       "<p>5 rows × 31 columns</p>\n",
       "</div>"
      ],
      "text/plain": [
       "   Time        V1        V2        V3        V4        V5        V6        V7  \\\n",
       "0   0.0 -1.359807 -0.072781  2.536347  1.378155 -0.338321  0.462388  0.239599   \n",
       "1   0.0  1.191857  0.266151  0.166480  0.448154  0.060018 -0.082361 -0.078803   \n",
       "2   1.0 -1.358354 -1.340163  1.773209  0.379780 -0.503198  1.800499  0.791461   \n",
       "3   1.0 -0.966272 -0.185226  1.792993 -0.863291 -0.010309  1.247203  0.237609   \n",
       "4   2.0 -1.158233  0.877737  1.548718  0.403034 -0.407193  0.095921  0.592941   \n",
       "\n",
       "         V8        V9  ...       V21       V22       V23       V24       V25  \\\n",
       "0  0.098698  0.363787  ... -0.018307  0.277838 -0.110474  0.066928  0.128539   \n",
       "1  0.085102 -0.255425  ... -0.225775 -0.638672  0.101288 -0.339846  0.167170   \n",
       "2  0.247676 -1.514654  ...  0.247998  0.771679  0.909412 -0.689281 -0.327642   \n",
       "3  0.377436 -1.387024  ... -0.108300  0.005274 -0.190321 -1.175575  0.647376   \n",
       "4 -0.270533  0.817739  ... -0.009431  0.798278 -0.137458  0.141267 -0.206010   \n",
       "\n",
       "        V26       V27       V28  Amount  Class  \n",
       "0 -0.189115  0.133558 -0.021053  149.62      0  \n",
       "1  0.125895 -0.008983  0.014724    2.69      0  \n",
       "2 -0.139097 -0.055353 -0.059752  378.66      0  \n",
       "3 -0.221929  0.062723  0.061458  123.50      0  \n",
       "4  0.502292  0.219422  0.215153   69.99      0  \n",
       "\n",
       "[5 rows x 31 columns]"
      ]
     },
     "execution_count": 4,
     "metadata": {},
     "output_type": "execute_result"
    }
   ],
   "source": [
    "data.head()"
   ]
  },
  {
   "cell_type": "code",
   "execution_count": 5,
   "metadata": {},
   "outputs": [],
   "source": [
    "# sampling random 50000 points\n",
    "data_50000 = data.sample(n = 50000)"
   ]
  },
  {
   "cell_type": "code",
   "execution_count": 6,
   "metadata": {},
   "outputs": [
    {
     "data": {
      "text/html": [
       "<div>\n",
       "<style scoped>\n",
       "    .dataframe tbody tr th:only-of-type {\n",
       "        vertical-align: middle;\n",
       "    }\n",
       "\n",
       "    .dataframe tbody tr th {\n",
       "        vertical-align: top;\n",
       "    }\n",
       "\n",
       "    .dataframe thead th {\n",
       "        text-align: right;\n",
       "    }\n",
       "</style>\n",
       "<table border=\"1\" class=\"dataframe\">\n",
       "  <thead>\n",
       "    <tr style=\"text-align: right;\">\n",
       "      <th></th>\n",
       "      <th>Time</th>\n",
       "      <th>V1</th>\n",
       "      <th>V2</th>\n",
       "      <th>V3</th>\n",
       "      <th>V4</th>\n",
       "      <th>V5</th>\n",
       "      <th>V6</th>\n",
       "      <th>V7</th>\n",
       "      <th>V8</th>\n",
       "      <th>V9</th>\n",
       "      <th>...</th>\n",
       "      <th>V21</th>\n",
       "      <th>V22</th>\n",
       "      <th>V23</th>\n",
       "      <th>V24</th>\n",
       "      <th>V25</th>\n",
       "      <th>V26</th>\n",
       "      <th>V27</th>\n",
       "      <th>V28</th>\n",
       "      <th>Amount</th>\n",
       "      <th>Class</th>\n",
       "    </tr>\n",
       "  </thead>\n",
       "  <tbody>\n",
       "    <tr>\n",
       "      <th>163590</th>\n",
       "      <td>116071.0</td>\n",
       "      <td>-3.017546</td>\n",
       "      <td>3.427747</td>\n",
       "      <td>-1.665418</td>\n",
       "      <td>-1.145119</td>\n",
       "      <td>-0.132192</td>\n",
       "      <td>-1.182398</td>\n",
       "      <td>0.727843</td>\n",
       "      <td>0.149635</td>\n",
       "      <td>2.390029</td>\n",
       "      <td>...</td>\n",
       "      <td>0.009406</td>\n",
       "      <td>1.103819</td>\n",
       "      <td>0.137768</td>\n",
       "      <td>1.069130</td>\n",
       "      <td>-0.166342</td>\n",
       "      <td>-0.241113</td>\n",
       "      <td>1.576548</td>\n",
       "      <td>0.834218</td>\n",
       "      <td>1.79</td>\n",
       "      <td>0</td>\n",
       "    </tr>\n",
       "    <tr>\n",
       "      <th>184355</th>\n",
       "      <td>126210.0</td>\n",
       "      <td>-1.835334</td>\n",
       "      <td>1.039965</td>\n",
       "      <td>-0.198505</td>\n",
       "      <td>-3.795174</td>\n",
       "      <td>0.043655</td>\n",
       "      <td>0.370722</td>\n",
       "      <td>-0.338915</td>\n",
       "      <td>-3.573874</td>\n",
       "      <td>0.472179</td>\n",
       "      <td>...</td>\n",
       "      <td>2.885193</td>\n",
       "      <td>-0.782471</td>\n",
       "      <td>-0.259355</td>\n",
       "      <td>0.060307</td>\n",
       "      <td>1.391360</td>\n",
       "      <td>-0.367646</td>\n",
       "      <td>-0.285800</td>\n",
       "      <td>0.116259</td>\n",
       "      <td>30.14</td>\n",
       "      <td>0</td>\n",
       "    </tr>\n",
       "    <tr>\n",
       "      <th>139631</th>\n",
       "      <td>83262.0</td>\n",
       "      <td>-0.920095</td>\n",
       "      <td>1.249479</td>\n",
       "      <td>2.681446</td>\n",
       "      <td>3.066965</td>\n",
       "      <td>-0.982934</td>\n",
       "      <td>1.099643</td>\n",
       "      <td>0.122686</td>\n",
       "      <td>-0.629401</td>\n",
       "      <td>-0.609993</td>\n",
       "      <td>...</td>\n",
       "      <td>0.617225</td>\n",
       "      <td>-0.410677</td>\n",
       "      <td>-0.070313</td>\n",
       "      <td>0.385717</td>\n",
       "      <td>0.033940</td>\n",
       "      <td>0.189636</td>\n",
       "      <td>0.092345</td>\n",
       "      <td>0.077757</td>\n",
       "      <td>102.15</td>\n",
       "      <td>0</td>\n",
       "    </tr>\n",
       "    <tr>\n",
       "      <th>113830</th>\n",
       "      <td>73221.0</td>\n",
       "      <td>-1.334573</td>\n",
       "      <td>-0.516636</td>\n",
       "      <td>2.946869</td>\n",
       "      <td>-0.933457</td>\n",
       "      <td>-1.206642</td>\n",
       "      <td>-0.808740</td>\n",
       "      <td>-0.347681</td>\n",
       "      <td>0.155747</td>\n",
       "      <td>-0.941013</td>\n",
       "      <td>...</td>\n",
       "      <td>-0.001899</td>\n",
       "      <td>0.223181</td>\n",
       "      <td>0.145463</td>\n",
       "      <td>0.908063</td>\n",
       "      <td>0.149216</td>\n",
       "      <td>0.479958</td>\n",
       "      <td>0.249619</td>\n",
       "      <td>0.161935</td>\n",
       "      <td>106.51</td>\n",
       "      <td>0</td>\n",
       "    </tr>\n",
       "    <tr>\n",
       "      <th>254720</th>\n",
       "      <td>156877.0</td>\n",
       "      <td>2.055364</td>\n",
       "      <td>-2.209773</td>\n",
       "      <td>0.742884</td>\n",
       "      <td>-1.148226</td>\n",
       "      <td>-2.424800</td>\n",
       "      <td>1.020713</td>\n",
       "      <td>-2.514556</td>\n",
       "      <td>0.438666</td>\n",
       "      <td>0.252089</td>\n",
       "      <td>...</td>\n",
       "      <td>-0.006937</td>\n",
       "      <td>0.863080</td>\n",
       "      <td>0.116879</td>\n",
       "      <td>-0.339508</td>\n",
       "      <td>-0.345829</td>\n",
       "      <td>0.023391</td>\n",
       "      <td>0.116789</td>\n",
       "      <td>-0.034098</td>\n",
       "      <td>49.20</td>\n",
       "      <td>0</td>\n",
       "    </tr>\n",
       "  </tbody>\n",
       "</table>\n",
       "<p>5 rows × 31 columns</p>\n",
       "</div>"
      ],
      "text/plain": [
       "            Time        V1        V2        V3        V4        V5        V6  \\\n",
       "163590  116071.0 -3.017546  3.427747 -1.665418 -1.145119 -0.132192 -1.182398   \n",
       "184355  126210.0 -1.835334  1.039965 -0.198505 -3.795174  0.043655  0.370722   \n",
       "139631   83262.0 -0.920095  1.249479  2.681446  3.066965 -0.982934  1.099643   \n",
       "113830   73221.0 -1.334573 -0.516636  2.946869 -0.933457 -1.206642 -0.808740   \n",
       "254720  156877.0  2.055364 -2.209773  0.742884 -1.148226 -2.424800  1.020713   \n",
       "\n",
       "              V7        V8        V9  ...       V21       V22       V23  \\\n",
       "163590  0.727843  0.149635  2.390029  ...  0.009406  1.103819  0.137768   \n",
       "184355 -0.338915 -3.573874  0.472179  ...  2.885193 -0.782471 -0.259355   \n",
       "139631  0.122686 -0.629401 -0.609993  ...  0.617225 -0.410677 -0.070313   \n",
       "113830 -0.347681  0.155747 -0.941013  ... -0.001899  0.223181  0.145463   \n",
       "254720 -2.514556  0.438666  0.252089  ... -0.006937  0.863080  0.116879   \n",
       "\n",
       "             V24       V25       V26       V27       V28  Amount  Class  \n",
       "163590  1.069130 -0.166342 -0.241113  1.576548  0.834218    1.79      0  \n",
       "184355  0.060307  1.391360 -0.367646 -0.285800  0.116259   30.14      0  \n",
       "139631  0.385717  0.033940  0.189636  0.092345  0.077757  102.15      0  \n",
       "113830  0.908063  0.149216  0.479958  0.249619  0.161935  106.51      0  \n",
       "254720 -0.339508 -0.345829  0.023391  0.116789 -0.034098   49.20      0  \n",
       "\n",
       "[5 rows x 31 columns]"
      ]
     },
     "execution_count": 6,
     "metadata": {},
     "output_type": "execute_result"
    }
   ],
   "source": [
    "data_50000.head()"
   ]
  },
  {
   "cell_type": "code",
   "execution_count": 7,
   "metadata": {},
   "outputs": [],
   "source": [
    "data_50000.to_csv(\"NewCreditCard.csv\")"
   ]
  },
  {
   "cell_type": "markdown",
   "metadata": {},
   "source": [
    "## Detecting outliers for 'k' value 2\n",
    "\n",
    "We have assumed that 50% of total points in our data set are outliers."
   ]
  },
  {
   "cell_type": "code",
   "execution_count": 8,
   "metadata": {},
   "outputs": [],
   "source": [
    "newData = pd.read_csv(\"NewCreditCard.csv\")"
   ]
  },
  {
   "cell_type": "code",
   "execution_count": 9,
   "metadata": {},
   "outputs": [
    {
     "data": {
      "text/html": [
       "<div>\n",
       "<style scoped>\n",
       "    .dataframe tbody tr th:only-of-type {\n",
       "        vertical-align: middle;\n",
       "    }\n",
       "\n",
       "    .dataframe tbody tr th {\n",
       "        vertical-align: top;\n",
       "    }\n",
       "\n",
       "    .dataframe thead th {\n",
       "        text-align: right;\n",
       "    }\n",
       "</style>\n",
       "<table border=\"1\" class=\"dataframe\">\n",
       "  <thead>\n",
       "    <tr style=\"text-align: right;\">\n",
       "      <th></th>\n",
       "      <th>Unnamed: 0</th>\n",
       "      <th>Time</th>\n",
       "      <th>V1</th>\n",
       "      <th>V2</th>\n",
       "      <th>V3</th>\n",
       "      <th>V4</th>\n",
       "      <th>V5</th>\n",
       "      <th>V6</th>\n",
       "      <th>V7</th>\n",
       "      <th>V8</th>\n",
       "      <th>...</th>\n",
       "      <th>V21</th>\n",
       "      <th>V22</th>\n",
       "      <th>V23</th>\n",
       "      <th>V24</th>\n",
       "      <th>V25</th>\n",
       "      <th>V26</th>\n",
       "      <th>V27</th>\n",
       "      <th>V28</th>\n",
       "      <th>Amount</th>\n",
       "      <th>Class</th>\n",
       "    </tr>\n",
       "  </thead>\n",
       "  <tbody>\n",
       "    <tr>\n",
       "      <th>0</th>\n",
       "      <td>163590</td>\n",
       "      <td>116071.0</td>\n",
       "      <td>-3.017546</td>\n",
       "      <td>3.427747</td>\n",
       "      <td>-1.665418</td>\n",
       "      <td>-1.145119</td>\n",
       "      <td>-0.132192</td>\n",
       "      <td>-1.182398</td>\n",
       "      <td>0.727843</td>\n",
       "      <td>0.149635</td>\n",
       "      <td>...</td>\n",
       "      <td>0.009406</td>\n",
       "      <td>1.103819</td>\n",
       "      <td>0.137768</td>\n",
       "      <td>1.069130</td>\n",
       "      <td>-0.166342</td>\n",
       "      <td>-0.241113</td>\n",
       "      <td>1.576548</td>\n",
       "      <td>0.834218</td>\n",
       "      <td>1.79</td>\n",
       "      <td>0</td>\n",
       "    </tr>\n",
       "    <tr>\n",
       "      <th>1</th>\n",
       "      <td>184355</td>\n",
       "      <td>126210.0</td>\n",
       "      <td>-1.835334</td>\n",
       "      <td>1.039965</td>\n",
       "      <td>-0.198505</td>\n",
       "      <td>-3.795174</td>\n",
       "      <td>0.043655</td>\n",
       "      <td>0.370722</td>\n",
       "      <td>-0.338915</td>\n",
       "      <td>-3.573874</td>\n",
       "      <td>...</td>\n",
       "      <td>2.885193</td>\n",
       "      <td>-0.782471</td>\n",
       "      <td>-0.259355</td>\n",
       "      <td>0.060307</td>\n",
       "      <td>1.391360</td>\n",
       "      <td>-0.367646</td>\n",
       "      <td>-0.285800</td>\n",
       "      <td>0.116259</td>\n",
       "      <td>30.14</td>\n",
       "      <td>0</td>\n",
       "    </tr>\n",
       "    <tr>\n",
       "      <th>2</th>\n",
       "      <td>139631</td>\n",
       "      <td>83262.0</td>\n",
       "      <td>-0.920095</td>\n",
       "      <td>1.249479</td>\n",
       "      <td>2.681446</td>\n",
       "      <td>3.066965</td>\n",
       "      <td>-0.982934</td>\n",
       "      <td>1.099643</td>\n",
       "      <td>0.122686</td>\n",
       "      <td>-0.629401</td>\n",
       "      <td>...</td>\n",
       "      <td>0.617225</td>\n",
       "      <td>-0.410677</td>\n",
       "      <td>-0.070313</td>\n",
       "      <td>0.385717</td>\n",
       "      <td>0.033940</td>\n",
       "      <td>0.189636</td>\n",
       "      <td>0.092345</td>\n",
       "      <td>0.077757</td>\n",
       "      <td>102.15</td>\n",
       "      <td>0</td>\n",
       "    </tr>\n",
       "    <tr>\n",
       "      <th>3</th>\n",
       "      <td>113830</td>\n",
       "      <td>73221.0</td>\n",
       "      <td>-1.334573</td>\n",
       "      <td>-0.516636</td>\n",
       "      <td>2.946869</td>\n",
       "      <td>-0.933457</td>\n",
       "      <td>-1.206642</td>\n",
       "      <td>-0.808740</td>\n",
       "      <td>-0.347681</td>\n",
       "      <td>0.155747</td>\n",
       "      <td>...</td>\n",
       "      <td>-0.001899</td>\n",
       "      <td>0.223181</td>\n",
       "      <td>0.145463</td>\n",
       "      <td>0.908063</td>\n",
       "      <td>0.149216</td>\n",
       "      <td>0.479958</td>\n",
       "      <td>0.249619</td>\n",
       "      <td>0.161935</td>\n",
       "      <td>106.51</td>\n",
       "      <td>0</td>\n",
       "    </tr>\n",
       "    <tr>\n",
       "      <th>4</th>\n",
       "      <td>254720</td>\n",
       "      <td>156877.0</td>\n",
       "      <td>2.055364</td>\n",
       "      <td>-2.209773</td>\n",
       "      <td>0.742884</td>\n",
       "      <td>-1.148226</td>\n",
       "      <td>-2.424800</td>\n",
       "      <td>1.020713</td>\n",
       "      <td>-2.514556</td>\n",
       "      <td>0.438666</td>\n",
       "      <td>...</td>\n",
       "      <td>-0.006937</td>\n",
       "      <td>0.863080</td>\n",
       "      <td>0.116879</td>\n",
       "      <td>-0.339508</td>\n",
       "      <td>-0.345829</td>\n",
       "      <td>0.023391</td>\n",
       "      <td>0.116789</td>\n",
       "      <td>-0.034098</td>\n",
       "      <td>49.20</td>\n",
       "      <td>0</td>\n",
       "    </tr>\n",
       "  </tbody>\n",
       "</table>\n",
       "<p>5 rows × 32 columns</p>\n",
       "</div>"
      ],
      "text/plain": [
       "   Unnamed: 0      Time        V1        V2        V3        V4        V5  \\\n",
       "0      163590  116071.0 -3.017546  3.427747 -1.665418 -1.145119 -0.132192   \n",
       "1      184355  126210.0 -1.835334  1.039965 -0.198505 -3.795174  0.043655   \n",
       "2      139631   83262.0 -0.920095  1.249479  2.681446  3.066965 -0.982934   \n",
       "3      113830   73221.0 -1.334573 -0.516636  2.946869 -0.933457 -1.206642   \n",
       "4      254720  156877.0  2.055364 -2.209773  0.742884 -1.148226 -2.424800   \n",
       "\n",
       "         V6        V7        V8  ...       V21       V22       V23       V24  \\\n",
       "0 -1.182398  0.727843  0.149635  ...  0.009406  1.103819  0.137768  1.069130   \n",
       "1  0.370722 -0.338915 -3.573874  ...  2.885193 -0.782471 -0.259355  0.060307   \n",
       "2  1.099643  0.122686 -0.629401  ...  0.617225 -0.410677 -0.070313  0.385717   \n",
       "3 -0.808740 -0.347681  0.155747  ... -0.001899  0.223181  0.145463  0.908063   \n",
       "4  1.020713 -2.514556  0.438666  ... -0.006937  0.863080  0.116879 -0.339508   \n",
       "\n",
       "        V25       V26       V27       V28  Amount  Class  \n",
       "0 -0.166342 -0.241113  1.576548  0.834218    1.79      0  \n",
       "1  1.391360 -0.367646 -0.285800  0.116259   30.14      0  \n",
       "2  0.033940  0.189636  0.092345  0.077757  102.15      0  \n",
       "3  0.149216  0.479958  0.249619  0.161935  106.51      0  \n",
       "4 -0.345829  0.023391  0.116789 -0.034098   49.20      0  \n",
       "\n",
       "[5 rows x 32 columns]"
      ]
     },
     "execution_count": 9,
     "metadata": {},
     "output_type": "execute_result"
    }
   ],
   "source": [
    "newData.head()"
   ]
  },
  {
   "cell_type": "code",
   "execution_count": 10,
   "metadata": {},
   "outputs": [],
   "source": [
    "FinalData = newData.drop(\"Unnamed: 0\", axis = 1)"
   ]
  },
  {
   "cell_type": "code",
   "execution_count": 11,
   "metadata": {},
   "outputs": [
    {
     "data": {
      "text/html": [
       "<div>\n",
       "<style scoped>\n",
       "    .dataframe tbody tr th:only-of-type {\n",
       "        vertical-align: middle;\n",
       "    }\n",
       "\n",
       "    .dataframe tbody tr th {\n",
       "        vertical-align: top;\n",
       "    }\n",
       "\n",
       "    .dataframe thead th {\n",
       "        text-align: right;\n",
       "    }\n",
       "</style>\n",
       "<table border=\"1\" class=\"dataframe\">\n",
       "  <thead>\n",
       "    <tr style=\"text-align: right;\">\n",
       "      <th></th>\n",
       "      <th>Time</th>\n",
       "      <th>V1</th>\n",
       "      <th>V2</th>\n",
       "      <th>V3</th>\n",
       "      <th>V4</th>\n",
       "      <th>V5</th>\n",
       "      <th>V6</th>\n",
       "      <th>V7</th>\n",
       "      <th>V8</th>\n",
       "      <th>V9</th>\n",
       "      <th>...</th>\n",
       "      <th>V21</th>\n",
       "      <th>V22</th>\n",
       "      <th>V23</th>\n",
       "      <th>V24</th>\n",
       "      <th>V25</th>\n",
       "      <th>V26</th>\n",
       "      <th>V27</th>\n",
       "      <th>V28</th>\n",
       "      <th>Amount</th>\n",
       "      <th>Class</th>\n",
       "    </tr>\n",
       "  </thead>\n",
       "  <tbody>\n",
       "    <tr>\n",
       "      <th>0</th>\n",
       "      <td>116071.0</td>\n",
       "      <td>-3.017546</td>\n",
       "      <td>3.427747</td>\n",
       "      <td>-1.665418</td>\n",
       "      <td>-1.145119</td>\n",
       "      <td>-0.132192</td>\n",
       "      <td>-1.182398</td>\n",
       "      <td>0.727843</td>\n",
       "      <td>0.149635</td>\n",
       "      <td>2.390029</td>\n",
       "      <td>...</td>\n",
       "      <td>0.009406</td>\n",
       "      <td>1.103819</td>\n",
       "      <td>0.137768</td>\n",
       "      <td>1.069130</td>\n",
       "      <td>-0.166342</td>\n",
       "      <td>-0.241113</td>\n",
       "      <td>1.576548</td>\n",
       "      <td>0.834218</td>\n",
       "      <td>1.79</td>\n",
       "      <td>0</td>\n",
       "    </tr>\n",
       "    <tr>\n",
       "      <th>1</th>\n",
       "      <td>126210.0</td>\n",
       "      <td>-1.835334</td>\n",
       "      <td>1.039965</td>\n",
       "      <td>-0.198505</td>\n",
       "      <td>-3.795174</td>\n",
       "      <td>0.043655</td>\n",
       "      <td>0.370722</td>\n",
       "      <td>-0.338915</td>\n",
       "      <td>-3.573874</td>\n",
       "      <td>0.472179</td>\n",
       "      <td>...</td>\n",
       "      <td>2.885193</td>\n",
       "      <td>-0.782471</td>\n",
       "      <td>-0.259355</td>\n",
       "      <td>0.060307</td>\n",
       "      <td>1.391360</td>\n",
       "      <td>-0.367646</td>\n",
       "      <td>-0.285800</td>\n",
       "      <td>0.116259</td>\n",
       "      <td>30.14</td>\n",
       "      <td>0</td>\n",
       "    </tr>\n",
       "    <tr>\n",
       "      <th>2</th>\n",
       "      <td>83262.0</td>\n",
       "      <td>-0.920095</td>\n",
       "      <td>1.249479</td>\n",
       "      <td>2.681446</td>\n",
       "      <td>3.066965</td>\n",
       "      <td>-0.982934</td>\n",
       "      <td>1.099643</td>\n",
       "      <td>0.122686</td>\n",
       "      <td>-0.629401</td>\n",
       "      <td>-0.609993</td>\n",
       "      <td>...</td>\n",
       "      <td>0.617225</td>\n",
       "      <td>-0.410677</td>\n",
       "      <td>-0.070313</td>\n",
       "      <td>0.385717</td>\n",
       "      <td>0.033940</td>\n",
       "      <td>0.189636</td>\n",
       "      <td>0.092345</td>\n",
       "      <td>0.077757</td>\n",
       "      <td>102.15</td>\n",
       "      <td>0</td>\n",
       "    </tr>\n",
       "    <tr>\n",
       "      <th>3</th>\n",
       "      <td>73221.0</td>\n",
       "      <td>-1.334573</td>\n",
       "      <td>-0.516636</td>\n",
       "      <td>2.946869</td>\n",
       "      <td>-0.933457</td>\n",
       "      <td>-1.206642</td>\n",
       "      <td>-0.808740</td>\n",
       "      <td>-0.347681</td>\n",
       "      <td>0.155747</td>\n",
       "      <td>-0.941013</td>\n",
       "      <td>...</td>\n",
       "      <td>-0.001899</td>\n",
       "      <td>0.223181</td>\n",
       "      <td>0.145463</td>\n",
       "      <td>0.908063</td>\n",
       "      <td>0.149216</td>\n",
       "      <td>0.479958</td>\n",
       "      <td>0.249619</td>\n",
       "      <td>0.161935</td>\n",
       "      <td>106.51</td>\n",
       "      <td>0</td>\n",
       "    </tr>\n",
       "    <tr>\n",
       "      <th>4</th>\n",
       "      <td>156877.0</td>\n",
       "      <td>2.055364</td>\n",
       "      <td>-2.209773</td>\n",
       "      <td>0.742884</td>\n",
       "      <td>-1.148226</td>\n",
       "      <td>-2.424800</td>\n",
       "      <td>1.020713</td>\n",
       "      <td>-2.514556</td>\n",
       "      <td>0.438666</td>\n",
       "      <td>0.252089</td>\n",
       "      <td>...</td>\n",
       "      <td>-0.006937</td>\n",
       "      <td>0.863080</td>\n",
       "      <td>0.116879</td>\n",
       "      <td>-0.339508</td>\n",
       "      <td>-0.345829</td>\n",
       "      <td>0.023391</td>\n",
       "      <td>0.116789</td>\n",
       "      <td>-0.034098</td>\n",
       "      <td>49.20</td>\n",
       "      <td>0</td>\n",
       "    </tr>\n",
       "  </tbody>\n",
       "</table>\n",
       "<p>5 rows × 31 columns</p>\n",
       "</div>"
      ],
      "text/plain": [
       "       Time        V1        V2        V3        V4        V5        V6  \\\n",
       "0  116071.0 -3.017546  3.427747 -1.665418 -1.145119 -0.132192 -1.182398   \n",
       "1  126210.0 -1.835334  1.039965 -0.198505 -3.795174  0.043655  0.370722   \n",
       "2   83262.0 -0.920095  1.249479  2.681446  3.066965 -0.982934  1.099643   \n",
       "3   73221.0 -1.334573 -0.516636  2.946869 -0.933457 -1.206642 -0.808740   \n",
       "4  156877.0  2.055364 -2.209773  0.742884 -1.148226 -2.424800  1.020713   \n",
       "\n",
       "         V7        V8        V9  ...       V21       V22       V23       V24  \\\n",
       "0  0.727843  0.149635  2.390029  ...  0.009406  1.103819  0.137768  1.069130   \n",
       "1 -0.338915 -3.573874  0.472179  ...  2.885193 -0.782471 -0.259355  0.060307   \n",
       "2  0.122686 -0.629401 -0.609993  ...  0.617225 -0.410677 -0.070313  0.385717   \n",
       "3 -0.347681  0.155747 -0.941013  ... -0.001899  0.223181  0.145463  0.908063   \n",
       "4 -2.514556  0.438666  0.252089  ... -0.006937  0.863080  0.116879 -0.339508   \n",
       "\n",
       "        V25       V26       V27       V28  Amount  Class  \n",
       "0 -0.166342 -0.241113  1.576548  0.834218    1.79      0  \n",
       "1  1.391360 -0.367646 -0.285800  0.116259   30.14      0  \n",
       "2  0.033940  0.189636  0.092345  0.077757  102.15      0  \n",
       "3  0.149216  0.479958  0.249619  0.161935  106.51      0  \n",
       "4 -0.345829  0.023391  0.116789 -0.034098   49.20      0  \n",
       "\n",
       "[5 rows x 31 columns]"
      ]
     },
     "execution_count": 11,
     "metadata": {},
     "output_type": "execute_result"
    }
   ],
   "source": [
    "FinalData.head()"
   ]
  },
  {
   "cell_type": "code",
   "execution_count": 12,
   "metadata": {},
   "outputs": [
    {
     "data": {
      "text/plain": [
       "(50000, 31)"
      ]
     },
     "execution_count": 12,
     "metadata": {},
     "output_type": "execute_result"
    }
   ],
   "source": [
    "FinalData.shape"
   ]
  },
  {
   "cell_type": "code",
   "execution_count": 13,
   "metadata": {
    "scrolled": true
   },
   "outputs": [
    {
     "data": {
      "text/plain": [
       "array([ 1,  1,  1, ..., -1,  1,  1])"
      ]
     },
     "execution_count": 13,
     "metadata": {},
     "output_type": "execute_result"
    }
   ],
   "source": [
    "\n",
    "lof = LocalOutlierFactor(n_neighbors=2, algorithm='auto', metric='minkowski', p=2, metric_params=None, contamination=0.5, n_jobs=1)\n",
    "\n",
    "outlierArray = lof.fit_predict(FinalData)\n",
    "\n",
    "outlierArray"
   ]
  },
  {
   "cell_type": "markdown",
   "metadata": {},
   "source": [
    "Here, we got an array, where row corresponding to array element 1 in our dataset is an inlier and row corresponding to array element to -1 in our dataset is an oulier."
   ]
  },
  {
   "cell_type": "code",
   "execution_count": 14,
   "metadata": {},
   "outputs": [
    {
     "data": {
      "text/plain": [
       "50000"
      ]
     },
     "execution_count": 14,
     "metadata": {},
     "output_type": "execute_result"
    }
   ],
   "source": [
    "len(outlierArray)"
   ]
  },
  {
   "cell_type": "code",
   "execution_count": 15,
   "metadata": {},
   "outputs": [
    {
     "name": "stdout",
     "output_type": "stream",
     "text": [
      "Total number of outliers = 25000\n",
      "Total number of inliers = 25000\n"
     ]
    }
   ],
   "source": [
    "countOutliers = 0\n",
    "countInliers = 0\n",
    "for i in range(50000):\n",
    "    if outlierArray[i] == -1:\n",
    "        countOutliers += 1\n",
    "    else:\n",
    "        countInliers += 1\n",
    "print(\"Total number of outliers = \"+str(countOutliers))\n",
    "print(\"Total number of inliers = \"+str(countInliers))"
   ]
  },
  {
   "cell_type": "code",
   "execution_count": 16,
   "metadata": {},
   "outputs": [],
   "source": [
    "FinalData2 = FinalData.copy()"
   ]
  },
  {
   "cell_type": "code",
   "execution_count": 17,
   "metadata": {},
   "outputs": [
    {
     "data": {
      "text/plain": [
       "(50000, 31)"
      ]
     },
     "execution_count": 17,
     "metadata": {},
     "output_type": "execute_result"
    }
   ],
   "source": [
    "FinalData2.shape"
   ]
  },
  {
   "cell_type": "markdown",
   "metadata": {},
   "source": [
    "## Removing Outliers"
   ]
  },
  {
   "cell_type": "code",
   "execution_count": 18,
   "metadata": {},
   "outputs": [
    {
     "data": {
      "text/html": [
       "<div>\n",
       "<style scoped>\n",
       "    .dataframe tbody tr th:only-of-type {\n",
       "        vertical-align: middle;\n",
       "    }\n",
       "\n",
       "    .dataframe tbody tr th {\n",
       "        vertical-align: top;\n",
       "    }\n",
       "\n",
       "    .dataframe thead th {\n",
       "        text-align: right;\n",
       "    }\n",
       "</style>\n",
       "<table border=\"1\" class=\"dataframe\">\n",
       "  <thead>\n",
       "    <tr style=\"text-align: right;\">\n",
       "      <th></th>\n",
       "      <th>Time</th>\n",
       "      <th>V1</th>\n",
       "      <th>V2</th>\n",
       "      <th>V3</th>\n",
       "      <th>V4</th>\n",
       "      <th>V5</th>\n",
       "      <th>V6</th>\n",
       "      <th>V7</th>\n",
       "      <th>V8</th>\n",
       "      <th>V9</th>\n",
       "      <th>...</th>\n",
       "      <th>V21</th>\n",
       "      <th>V22</th>\n",
       "      <th>V23</th>\n",
       "      <th>V24</th>\n",
       "      <th>V25</th>\n",
       "      <th>V26</th>\n",
       "      <th>V27</th>\n",
       "      <th>V28</th>\n",
       "      <th>Amount</th>\n",
       "      <th>Class</th>\n",
       "    </tr>\n",
       "  </thead>\n",
       "  <tbody>\n",
       "    <tr>\n",
       "      <th>0</th>\n",
       "      <td>116071.0</td>\n",
       "      <td>-3.017546</td>\n",
       "      <td>3.427747</td>\n",
       "      <td>-1.665418</td>\n",
       "      <td>-1.145119</td>\n",
       "      <td>-0.132192</td>\n",
       "      <td>-1.182398</td>\n",
       "      <td>0.727843</td>\n",
       "      <td>0.149635</td>\n",
       "      <td>2.390029</td>\n",
       "      <td>...</td>\n",
       "      <td>0.009406</td>\n",
       "      <td>1.103819</td>\n",
       "      <td>0.137768</td>\n",
       "      <td>1.069130</td>\n",
       "      <td>-0.166342</td>\n",
       "      <td>-0.241113</td>\n",
       "      <td>1.576548</td>\n",
       "      <td>0.834218</td>\n",
       "      <td>1.79</td>\n",
       "      <td>0</td>\n",
       "    </tr>\n",
       "    <tr>\n",
       "      <th>1</th>\n",
       "      <td>126210.0</td>\n",
       "      <td>-1.835334</td>\n",
       "      <td>1.039965</td>\n",
       "      <td>-0.198505</td>\n",
       "      <td>-3.795174</td>\n",
       "      <td>0.043655</td>\n",
       "      <td>0.370722</td>\n",
       "      <td>-0.338915</td>\n",
       "      <td>-3.573874</td>\n",
       "      <td>0.472179</td>\n",
       "      <td>...</td>\n",
       "      <td>2.885193</td>\n",
       "      <td>-0.782471</td>\n",
       "      <td>-0.259355</td>\n",
       "      <td>0.060307</td>\n",
       "      <td>1.391360</td>\n",
       "      <td>-0.367646</td>\n",
       "      <td>-0.285800</td>\n",
       "      <td>0.116259</td>\n",
       "      <td>30.14</td>\n",
       "      <td>0</td>\n",
       "    </tr>\n",
       "    <tr>\n",
       "      <th>2</th>\n",
       "      <td>83262.0</td>\n",
       "      <td>-0.920095</td>\n",
       "      <td>1.249479</td>\n",
       "      <td>2.681446</td>\n",
       "      <td>3.066965</td>\n",
       "      <td>-0.982934</td>\n",
       "      <td>1.099643</td>\n",
       "      <td>0.122686</td>\n",
       "      <td>-0.629401</td>\n",
       "      <td>-0.609993</td>\n",
       "      <td>...</td>\n",
       "      <td>0.617225</td>\n",
       "      <td>-0.410677</td>\n",
       "      <td>-0.070313</td>\n",
       "      <td>0.385717</td>\n",
       "      <td>0.033940</td>\n",
       "      <td>0.189636</td>\n",
       "      <td>0.092345</td>\n",
       "      <td>0.077757</td>\n",
       "      <td>102.15</td>\n",
       "      <td>0</td>\n",
       "    </tr>\n",
       "    <tr>\n",
       "      <th>3</th>\n",
       "      <td>73221.0</td>\n",
       "      <td>-1.334573</td>\n",
       "      <td>-0.516636</td>\n",
       "      <td>2.946869</td>\n",
       "      <td>-0.933457</td>\n",
       "      <td>-1.206642</td>\n",
       "      <td>-0.808740</td>\n",
       "      <td>-0.347681</td>\n",
       "      <td>0.155747</td>\n",
       "      <td>-0.941013</td>\n",
       "      <td>...</td>\n",
       "      <td>-0.001899</td>\n",
       "      <td>0.223181</td>\n",
       "      <td>0.145463</td>\n",
       "      <td>0.908063</td>\n",
       "      <td>0.149216</td>\n",
       "      <td>0.479958</td>\n",
       "      <td>0.249619</td>\n",
       "      <td>0.161935</td>\n",
       "      <td>106.51</td>\n",
       "      <td>0</td>\n",
       "    </tr>\n",
       "    <tr>\n",
       "      <th>4</th>\n",
       "      <td>156877.0</td>\n",
       "      <td>2.055364</td>\n",
       "      <td>-2.209773</td>\n",
       "      <td>0.742884</td>\n",
       "      <td>-1.148226</td>\n",
       "      <td>-2.424800</td>\n",
       "      <td>1.020713</td>\n",
       "      <td>-2.514556</td>\n",
       "      <td>0.438666</td>\n",
       "      <td>0.252089</td>\n",
       "      <td>...</td>\n",
       "      <td>-0.006937</td>\n",
       "      <td>0.863080</td>\n",
       "      <td>0.116879</td>\n",
       "      <td>-0.339508</td>\n",
       "      <td>-0.345829</td>\n",
       "      <td>0.023391</td>\n",
       "      <td>0.116789</td>\n",
       "      <td>-0.034098</td>\n",
       "      <td>49.20</td>\n",
       "      <td>0</td>\n",
       "    </tr>\n",
       "  </tbody>\n",
       "</table>\n",
       "<p>5 rows × 31 columns</p>\n",
       "</div>"
      ],
      "text/plain": [
       "       Time        V1        V2        V3        V4        V5        V6  \\\n",
       "0  116071.0 -3.017546  3.427747 -1.665418 -1.145119 -0.132192 -1.182398   \n",
       "1  126210.0 -1.835334  1.039965 -0.198505 -3.795174  0.043655  0.370722   \n",
       "2   83262.0 -0.920095  1.249479  2.681446  3.066965 -0.982934  1.099643   \n",
       "3   73221.0 -1.334573 -0.516636  2.946869 -0.933457 -1.206642 -0.808740   \n",
       "4  156877.0  2.055364 -2.209773  0.742884 -1.148226 -2.424800  1.020713   \n",
       "\n",
       "         V7        V8        V9  ...       V21       V22       V23       V24  \\\n",
       "0  0.727843  0.149635  2.390029  ...  0.009406  1.103819  0.137768  1.069130   \n",
       "1 -0.338915 -3.573874  0.472179  ...  2.885193 -0.782471 -0.259355  0.060307   \n",
       "2  0.122686 -0.629401 -0.609993  ...  0.617225 -0.410677 -0.070313  0.385717   \n",
       "3 -0.347681  0.155747 -0.941013  ... -0.001899  0.223181  0.145463  0.908063   \n",
       "4 -2.514556  0.438666  0.252089  ... -0.006937  0.863080  0.116879 -0.339508   \n",
       "\n",
       "        V25       V26       V27       V28  Amount  Class  \n",
       "0 -0.166342 -0.241113  1.576548  0.834218    1.79      0  \n",
       "1  1.391360 -0.367646 -0.285800  0.116259   30.14      0  \n",
       "2  0.033940  0.189636  0.092345  0.077757  102.15      0  \n",
       "3  0.149216  0.479958  0.249619  0.161935  106.51      0  \n",
       "4 -0.345829  0.023391  0.116789 -0.034098   49.20      0  \n",
       "\n",
       "[5 rows x 31 columns]"
      ]
     },
     "execution_count": 18,
     "metadata": {},
     "output_type": "execute_result"
    }
   ],
   "source": [
    "for i in range(50000):\n",
    "    if outlierArray[i] == -1:\n",
    "        FinalData.drop(i, inplace = True)\n",
    "FinalData.head()"
   ]
  },
  {
   "cell_type": "code",
   "execution_count": 19,
   "metadata": {},
   "outputs": [
    {
     "data": {
      "text/plain": [
       "(50000, 31)"
      ]
     },
     "execution_count": 19,
     "metadata": {},
     "output_type": "execute_result"
    }
   ],
   "source": [
    "FinalData2.shape"
   ]
  },
  {
   "cell_type": "code",
   "execution_count": 20,
   "metadata": {},
   "outputs": [
    {
     "data": {
      "text/plain": [
       "(25000, 31)"
      ]
     },
     "execution_count": 20,
     "metadata": {},
     "output_type": "execute_result"
    }
   ],
   "source": [
    "FinalData.shape"
   ]
  },
  {
   "cell_type": "code",
   "execution_count": 21,
   "metadata": {},
   "outputs": [
    {
     "data": {
      "image/png": "[encoded data removed]",
      "text/plain": [
       "<Figure size 1152x432 with 2 Axes>"
      ]
     },
     "metadata": {
      "needs_background": "light"
     },
     "output_type": "display_data"
    }
   ],
   "source": [
    "fig = plt.figure(figsize = (16,6))\n",
    "\n",
    "plt.subplot(1, 2, 1)\n",
    "plt.title(\"Before removing outliers for column V1\")\n",
    "ax = sns.boxplot(x=\"Class\", y = \"V1\", data= FinalData2, hue = \"Class\")\n",
    "\n",
    "plt.subplot(1, 2, 2)\n",
    "plt.title(\"After removing outliers for column V1\")\n",
    "ax = sns.boxplot(x=\"Class\", y = \"V1\", data= FinalData, hue = \"Class\")"
   ]
  },
  {
   "cell_type": "code",
   "execution_count": 22,
   "metadata": {},
   "outputs": [
    {
     "data": {
      "image/png": "[encoded data removed]",
      "text/plain": [
       "<Figure size 1152x432 with 2 Axes>"
      ]
     },
     "metadata": {
      "needs_background": "light"
     },
     "output_type": "display_data"
    }
   ],
   "source": [
    "fig = plt.figure(figsize = (16,6))\n",
    "\n",
    "plt.subplot(1, 2, 1)\n",
    "plt.title(\"Before removing outliers for column V2\")\n",
    "ax = sns.boxplot(x=\"Class\", y = \"V2\", data= FinalData2, hue = \"Class\")\n",
    "\n",
    "plt.subplot(1, 2, 2)\n",
    "plt.title(\"After removing outliers for column V2\")\n",
    "ax = sns.boxplot(x=\"Class\", y = \"V2\", data= FinalData, hue = \"Class\")"
   ]
  },
  {
   "cell_type": "code",
   "execution_count": 23,
   "metadata": {},
   "outputs": [
    {
     "data": {
      "image/png": "[encoded data removed]",
      "text/plain": [
       "<Figure size 1152x432 with 2 Axes>"
      ]
     },
     "metadata": {
      "needs_background": "light"
     },
     "output_type": "display_data"
    }
   ],
   "source": [
    "fig = plt.figure(figsize = (16,6))\n",
    "\n",
    "plt.subplot(1, 2, 1)\n",
    "plt.title(\"Before removing outliers for column V3\")\n",
    "ax = sns.boxplot(x=\"Class\", y = \"V3\", data= FinalData2, hue = \"Class\")\n",
    "\n",
    "plt.subplot(1, 2, 2)\n",
    "plt.title(\"After removing outliers for column V3\")\n",
    "ax = sns.boxplot(x=\"Class\", y = \"V3\", data= FinalData, hue = \"Class\")"
   ]
  },
  {
   "cell_type": "code",
   "execution_count": 24,
   "metadata": {},
   "outputs": [
    {
     "data": {
      "image/png": "[encoded data removed]",
      "text/plain": [
       "<Figure size 1152x432 with 2 Axes>"
      ]
     },
     "metadata": {
      "needs_background": "light"
     },
     "output_type": "display_data"
    }
   ],
   "source": [
    "fig = plt.figure(figsize = (16,6))\n",
    "\n",
    "plt.subplot(1, 2, 1)\n",
    "plt.title(\"Before removing outliers for column V4\")\n",
    "ax = sns.boxplot(x=\"Class\", y = \"V4\", data= FinalData2, hue = \"Class\")\n",
    "\n",
    "plt.subplot(1, 2, 2)\n",
    "plt.title(\"After removing outliers for column V4\")\n",
    "ax = sns.boxplot(x=\"Class\", y = \"V4\", data= FinalData, hue = \"Class\")"
   ]
  },
  {
   "cell_type": "code",
   "execution_count": 25,
   "metadata": {},
   "outputs": [
    {
     "data": {
      "image/png": "[encoded data removed]",
      "text/plain": [
       "<Figure size 1152x432 with 2 Axes>"
      ]
     },
     "metadata": {
      "needs_background": "light"
     },
     "output_type": "display_data"
    }
   ],
   "source": [
    "fig = plt.figure(figsize = (16,6))\n",
    "\n",
    "plt.subplot(1, 2, 1)\n",
    "plt.title(\"Before removing outliers for column V5\")\n",
    "ax = sns.boxplot(x=\"Class\", y = \"V5\", data= FinalData2, hue = \"Class\")\n",
    "\n",
    "plt.subplot(1, 2, 2)\n",
    "plt.title(\"After removing outliers for column V5\")\n",
    "ax = sns.boxplot(x=\"Class\", y = \"V5\", data= FinalData, hue = \"Class\")"
   ]
  },
  {
   "cell_type": "markdown",
   "metadata": {},
   "source": [
    "It can easily be observed in all of the above boxplots corresponding to columns V1, V2, V3, V4, V5, that most of the outliers for points belongs to class 1 has been removed. Furthermore, many of the outliers for points belong to class 0 has also been removed. For example for class 0 in plot 1 for column V1 all of the outliers less than -35 have been removed. Similarly, for class 0 in plot 3 for column V3 all the outliers less than -18 have been removed. Similarly, for class 0 in plot 5 for column V5 all of the outliers greater than 15 have been removed.\n",
    "\n",
    "## Detecting outliers for 'k' value 3\n",
    "\n",
    "We have assumed that 50% of total points in our data set are outliers"
   ]
  },
  {
   "cell_type": "code",
   "execution_count": 26,
   "metadata": {},
   "outputs": [
    {
     "data": {
      "text/html": [
       "<div>\n",
       "<style scoped>\n",
       "    .dataframe tbody tr th:only-of-type {\n",
       "        vertical-align: middle;\n",
       "    }\n",
       "\n",
       "    .dataframe tbody tr th {\n",
       "        vertical-align: top;\n",
       "    }\n",
       "\n",
       "    .dataframe thead th {\n",
       "        text-align: right;\n",
       "    }\n",
       "</style>\n",
       "<table border=\"1\" class=\"dataframe\">\n",
       "  <thead>\n",
       "    <tr style=\"text-align: right;\">\n",
       "      <th></th>\n",
       "      <th>Unnamed: 0</th>\n",
       "      <th>Time</th>\n",
       "      <th>V1</th>\n",
       "      <th>V2</th>\n",
       "      <th>V3</th>\n",
       "      <th>V4</th>\n",
       "      <th>V5</th>\n",
       "      <th>V6</th>\n",
       "      <th>V7</th>\n",
       "      <th>V8</th>\n",
       "      <th>...</th>\n",
       "      <th>V21</th>\n",
       "      <th>V22</th>\n",
       "      <th>V23</th>\n",
       "      <th>V24</th>\n",
       "      <th>V25</th>\n",
       "      <th>V26</th>\n",
       "      <th>V27</th>\n",
       "      <th>V28</th>\n",
       "      <th>Amount</th>\n",
       "      <th>Class</th>\n",
       "    </tr>\n",
       "  </thead>\n",
       "  <tbody>\n",
       "    <tr>\n",
       "      <th>0</th>\n",
       "      <td>163590</td>\n",
       "      <td>116071.0</td>\n",
       "      <td>-3.017546</td>\n",
       "      <td>3.427747</td>\n",
       "      <td>-1.665418</td>\n",
       "      <td>-1.145119</td>\n",
       "      <td>-0.132192</td>\n",
       "      <td>-1.182398</td>\n",
       "      <td>0.727843</td>\n",
       "      <td>0.149635</td>\n",
       "      <td>...</td>\n",
       "      <td>0.009406</td>\n",
       "      <td>1.103819</td>\n",
       "      <td>0.137768</td>\n",
       "      <td>1.069130</td>\n",
       "      <td>-0.166342</td>\n",
       "      <td>-0.241113</td>\n",
       "      <td>1.576548</td>\n",
       "      <td>0.834218</td>\n",
       "      <td>1.79</td>\n",
       "      <td>0</td>\n",
       "    </tr>\n",
       "    <tr>\n",
       "      <th>1</th>\n",
       "      <td>184355</td>\n",
       "      <td>126210.0</td>\n",
       "      <td>-1.835334</td>\n",
       "      <td>1.039965</td>\n",
       "      <td>-0.198505</td>\n",
       "      <td>-3.795174</td>\n",
       "      <td>0.043655</td>\n",
       "      <td>0.370722</td>\n",
       "      <td>-0.338915</td>\n",
       "      <td>-3.573874</td>\n",
       "      <td>...</td>\n",
       "      <td>2.885193</td>\n",
       "      <td>-0.782471</td>\n",
       "      <td>-0.259355</td>\n",
       "      <td>0.060307</td>\n",
       "      <td>1.391360</td>\n",
       "      <td>-0.367646</td>\n",
       "      <td>-0.285800</td>\n",
       "      <td>0.116259</td>\n",
       "      <td>30.14</td>\n",
       "      <td>0</td>\n",
       "    </tr>\n",
       "    <tr>\n",
       "      <th>2</th>\n",
       "      <td>139631</td>\n",
       "      <td>83262.0</td>\n",
       "      <td>-0.920095</td>\n",
       "      <td>1.249479</td>\n",
       "      <td>2.681446</td>\n",
       "      <td>3.066965</td>\n",
       "      <td>-0.982934</td>\n",
       "      <td>1.099643</td>\n",
       "      <td>0.122686</td>\n",
       "      <td>-0.629401</td>\n",
       "      <td>...</td>\n",
       "      <td>0.617225</td>\n",
       "      <td>-0.410677</td>\n",
       "      <td>-0.070313</td>\n",
       "      <td>0.385717</td>\n",
       "      <td>0.033940</td>\n",
       "      <td>0.189636</td>\n",
       "      <td>0.092345</td>\n",
       "      <td>0.077757</td>\n",
       "      <td>102.15</td>\n",
       "      <td>0</td>\n",
       "    </tr>\n",
       "    <tr>\n",
       "      <th>3</th>\n",
       "      <td>113830</td>\n",
       "      <td>73221.0</td>\n",
       "      <td>-1.334573</td>\n",
       "      <td>-0.516636</td>\n",
       "      <td>2.946869</td>\n",
       "      <td>-0.933457</td>\n",
       "      <td>-1.206642</td>\n",
       "      <td>-0.808740</td>\n",
       "      <td>-0.347681</td>\n",
       "      <td>0.155747</td>\n",
       "      <td>...</td>\n",
       "      <td>-0.001899</td>\n",
       "      <td>0.223181</td>\n",
       "      <td>0.145463</td>\n",
       "      <td>0.908063</td>\n",
       "      <td>0.149216</td>\n",
       "      <td>0.479958</td>\n",
       "      <td>0.249619</td>\n",
       "      <td>0.161935</td>\n",
       "      <td>106.51</td>\n",
       "      <td>0</td>\n",
       "    </tr>\n",
       "    <tr>\n",
       "      <th>4</th>\n",
       "      <td>254720</td>\n",
       "      <td>156877.0</td>\n",
       "      <td>2.055364</td>\n",
       "      <td>-2.209773</td>\n",
       "      <td>0.742884</td>\n",
       "      <td>-1.148226</td>\n",
       "      <td>-2.424800</td>\n",
       "      <td>1.020713</td>\n",
       "      <td>-2.514556</td>\n",
       "      <td>0.438666</td>\n",
       "      <td>...</td>\n",
       "      <td>-0.006937</td>\n",
       "      <td>0.863080</td>\n",
       "      <td>0.116879</td>\n",
       "      <td>-0.339508</td>\n",
       "      <td>-0.345829</td>\n",
       "      <td>0.023391</td>\n",
       "      <td>0.116789</td>\n",
       "      <td>-0.034098</td>\n",
       "      <td>49.20</td>\n",
       "      <td>0</td>\n",
       "    </tr>\n",
       "  </tbody>\n",
       "</table>\n",
       "<p>5 rows × 32 columns</p>\n",
       "</div>"
      ],
      "text/plain": [
       "   Unnamed: 0      Time        V1        V2        V3        V4        V5  \\\n",
       "0      163590  116071.0 -3.017546  3.427747 -1.665418 -1.145119 -0.132192   \n",
       "1      184355  126210.0 -1.835334  1.039965 -0.198505 -3.795174  0.043655   \n",
       "2      139631   83262.0 -0.920095  1.249479  2.681446  3.066965 -0.982934   \n",
       "3      113830   73221.0 -1.334573 -0.516636  2.946869 -0.933457 -1.206642   \n",
       "4      254720  156877.0  2.055364 -2.209773  0.742884 -1.148226 -2.424800   \n",
       "\n",
       "         V6        V7        V8  ...       V21       V22       V23       V24  \\\n",
       "0 -1.182398  0.727843  0.149635  ...  0.009406  1.103819  0.137768  1.069130   \n",
       "1  0.370722 -0.338915 -3.573874  ...  2.885193 -0.782471 -0.259355  0.060307   \n",
       "2  1.099643  0.122686 -0.629401  ...  0.617225 -0.410677 -0.070313  0.385717   \n",
       "3 -0.808740 -0.347681  0.155747  ... -0.001899  0.223181  0.145463  0.908063   \n",
       "4  1.020713 -2.514556  0.438666  ... -0.006937  0.863080  0.116879 -0.339508   \n",
       "\n",
       "        V25       V26       V27       V28  Amount  Class  \n",
       "0 -0.166342 -0.241113  1.576548  0.834218    1.79      0  \n",
       "1  1.391360 -0.367646 -0.285800  0.116259   30.14      0  \n",
       "2  0.033940  0.189636  0.092345  0.077757  102.15      0  \n",
       "3  0.149216  0.479958  0.249619  0.161935  106.51      0  \n",
       "4 -0.345829  0.023391  0.116789 -0.034098   49.20      0  \n",
       "\n",
       "[5 rows x 32 columns]"
      ]
     },
     "execution_count": 26,
     "metadata": {},
     "output_type": "execute_result"
    }
   ],
   "source": [
    "newData = pd.read_csv(\"NewCreditCard.csv\")\n",
    "\n",
    "newData.head()"
   ]
  },
  {
   "cell_type": "code",
   "execution_count": 27,
   "metadata": {},
   "outputs": [
    {
     "data": {
      "text/html": [
       "<div>\n",
       "<style scoped>\n",
       "    .dataframe tbody tr th:only-of-type {\n",
       "        vertical-align: middle;\n",
       "    }\n",
       "\n",
       "    .dataframe tbody tr th {\n",
       "        vertical-align: top;\n",
       "    }\n",
       "\n",
       "    .dataframe thead th {\n",
       "        text-align: right;\n",
       "    }\n",
       "</style>\n",
       "<table border=\"1\" class=\"dataframe\">\n",
       "  <thead>\n",
       "    <tr style=\"text-align: right;\">\n",
       "      <th></th>\n",
       "      <th>Time</th>\n",
       "      <th>V1</th>\n",
       "      <th>V2</th>\n",
       "      <th>V3</th>\n",
       "      <th>V4</th>\n",
       "      <th>V5</th>\n",
       "      <th>V6</th>\n",
       "      <th>V7</th>\n",
       "      <th>V8</th>\n",
       "      <th>V9</th>\n",
       "      <th>...</th>\n",
       "      <th>V21</th>\n",
       "      <th>V22</th>\n",
       "      <th>V23</th>\n",
       "      <th>V24</th>\n",
       "      <th>V25</th>\n",
       "      <th>V26</th>\n",
       "      <th>V27</th>\n",
       "      <th>V28</th>\n",
       "      <th>Amount</th>\n",
       "      <th>Class</th>\n",
       "    </tr>\n",
       "  </thead>\n",
       "  <tbody>\n",
       "    <tr>\n",
       "      <th>0</th>\n",
       "      <td>116071.0</td>\n",
       "      <td>-3.017546</td>\n",
       "      <td>3.427747</td>\n",
       "      <td>-1.665418</td>\n",
       "      <td>-1.145119</td>\n",
       "      <td>-0.132192</td>\n",
       "      <td>-1.182398</td>\n",
       "      <td>0.727843</td>\n",
       "      <td>0.149635</td>\n",
       "      <td>2.390029</td>\n",
       "      <td>...</td>\n",
       "      <td>0.009406</td>\n",
       "      <td>1.103819</td>\n",
       "      <td>0.137768</td>\n",
       "      <td>1.069130</td>\n",
       "      <td>-0.166342</td>\n",
       "      <td>-0.241113</td>\n",
       "      <td>1.576548</td>\n",
       "      <td>0.834218</td>\n",
       "      <td>1.79</td>\n",
       "      <td>0</td>\n",
       "    </tr>\n",
       "    <tr>\n",
       "      <th>1</th>\n",
       "      <td>126210.0</td>\n",
       "      <td>-1.835334</td>\n",
       "      <td>1.039965</td>\n",
       "      <td>-0.198505</td>\n",
       "      <td>-3.795174</td>\n",
       "      <td>0.043655</td>\n",
       "      <td>0.370722</td>\n",
       "      <td>-0.338915</td>\n",
       "      <td>-3.573874</td>\n",
       "      <td>0.472179</td>\n",
       "      <td>...</td>\n",
       "      <td>2.885193</td>\n",
       "      <td>-0.782471</td>\n",
       "      <td>-0.259355</td>\n",
       "      <td>0.060307</td>\n",
       "      <td>1.391360</td>\n",
       "      <td>-0.367646</td>\n",
       "      <td>-0.285800</td>\n",
       "      <td>0.116259</td>\n",
       "      <td>30.14</td>\n",
       "      <td>0</td>\n",
       "    </tr>\n",
       "    <tr>\n",
       "      <th>2</th>\n",
       "      <td>83262.0</td>\n",
       "      <td>-0.920095</td>\n",
       "      <td>1.249479</td>\n",
       "      <td>2.681446</td>\n",
       "      <td>3.066965</td>\n",
       "      <td>-0.982934</td>\n",
       "      <td>1.099643</td>\n",
       "      <td>0.122686</td>\n",
       "      <td>-0.629401</td>\n",
       "      <td>-0.609993</td>\n",
       "      <td>...</td>\n",
       "      <td>0.617225</td>\n",
       "      <td>-0.410677</td>\n",
       "      <td>-0.070313</td>\n",
       "      <td>0.385717</td>\n",
       "      <td>0.033940</td>\n",
       "      <td>0.189636</td>\n",
       "      <td>0.092345</td>\n",
       "      <td>0.077757</td>\n",
       "      <td>102.15</td>\n",
       "      <td>0</td>\n",
       "    </tr>\n",
       "    <tr>\n",
       "      <th>3</th>\n",
       "      <td>73221.0</td>\n",
       "      <td>-1.334573</td>\n",
       "      <td>-0.516636</td>\n",
       "      <td>2.946869</td>\n",
       "      <td>-0.933457</td>\n",
       "      <td>-1.206642</td>\n",
       "      <td>-0.808740</td>\n",
       "      <td>-0.347681</td>\n",
       "      <td>0.155747</td>\n",
       "      <td>-0.941013</td>\n",
       "      <td>...</td>\n",
       "      <td>-0.001899</td>\n",
       "      <td>0.223181</td>\n",
       "      <td>0.145463</td>\n",
       "      <td>0.908063</td>\n",
       "      <td>0.149216</td>\n",
       "      <td>0.479958</td>\n",
       "      <td>0.249619</td>\n",
       "      <td>0.161935</td>\n",
       "      <td>106.51</td>\n",
       "      <td>0</td>\n",
       "    </tr>\n",
       "    <tr>\n",
       "      <th>4</th>\n",
       "      <td>156877.0</td>\n",
       "      <td>2.055364</td>\n",
       "      <td>-2.209773</td>\n",
       "      <td>0.742884</td>\n",
       "      <td>-1.148226</td>\n",
       "      <td>-2.424800</td>\n",
       "      <td>1.020713</td>\n",
       "      <td>-2.514556</td>\n",
       "      <td>0.438666</td>\n",
       "      <td>0.252089</td>\n",
       "      <td>...</td>\n",
       "      <td>-0.006937</td>\n",
       "      <td>0.863080</td>\n",
       "      <td>0.116879</td>\n",
       "      <td>-0.339508</td>\n",
       "      <td>-0.345829</td>\n",
       "      <td>0.023391</td>\n",
       "      <td>0.116789</td>\n",
       "      <td>-0.034098</td>\n",
       "      <td>49.20</td>\n",
       "      <td>0</td>\n",
       "    </tr>\n",
       "  </tbody>\n",
       "</table>\n",
       "<p>5 rows × 31 columns</p>\n",
       "</div>"
      ],
      "text/plain": [
       "       Time        V1        V2        V3        V4        V5        V6  \\\n",
       "0  116071.0 -3.017546  3.427747 -1.665418 -1.145119 -0.132192 -1.182398   \n",
       "1  126210.0 -1.835334  1.039965 -0.198505 -3.795174  0.043655  0.370722   \n",
       "2   83262.0 -0.920095  1.249479  2.681446  3.066965 -0.982934  1.099643   \n",
       "3   73221.0 -1.334573 -0.516636  2.946869 -0.933457 -1.206642 -0.808740   \n",
       "4  156877.0  2.055364 -2.209773  0.742884 -1.148226 -2.424800  1.020713   \n",
       "\n",
       "         V7        V8        V9  ...       V21       V22       V23       V24  \\\n",
       "0  0.727843  0.149635  2.390029  ...  0.009406  1.103819  0.137768  1.069130   \n",
       "1 -0.338915 -3.573874  0.472179  ...  2.885193 -0.782471 -0.259355  0.060307   \n",
       "2  0.122686 -0.629401 -0.609993  ...  0.617225 -0.410677 -0.070313  0.385717   \n",
       "3 -0.347681  0.155747 -0.941013  ... -0.001899  0.223181  0.145463  0.908063   \n",
       "4 -2.514556  0.438666  0.252089  ... -0.006937  0.863080  0.116879 -0.339508   \n",
       "\n",
       "        V25       V26       V27       V28  Amount  Class  \n",
       "0 -0.166342 -0.241113  1.576548  0.834218    1.79      0  \n",
       "1  1.391360 -0.367646 -0.285800  0.116259   30.14      0  \n",
       "2  0.033940  0.189636  0.092345  0.077757  102.15      0  \n",
       "3  0.149216  0.479958  0.249619  0.161935  106.51      0  \n",
       "4 -0.345829  0.023391  0.116789 -0.034098   49.20      0  \n",
       "\n",
       "[5 rows x 31 columns]"
      ]
     },
     "execution_count": 27,
     "metadata": {},
     "output_type": "execute_result"
    }
   ],
   "source": [
    "\n",
    "FinalData = newData.drop(\"Unnamed: 0\", axis = 1)\n",
    "\n",
    "FinalData.head()"
   ]
  },
  {
   "cell_type": "code",
   "execution_count": 28,
   "metadata": {},
   "outputs": [
    {
     "data": {
      "text/plain": [
       "(50000, 31)"
      ]
     },
     "execution_count": 28,
     "metadata": {},
     "output_type": "execute_result"
    }
   ],
   "source": [
    "FinalData.shape"
   ]
  },
  {
   "cell_type": "code",
   "execution_count": 29,
   "metadata": {},
   "outputs": [
    {
     "data": {
      "text/plain": [
       "array([ 1,  1, -1, ..., -1,  1,  1])"
      ]
     },
     "execution_count": 29,
     "metadata": {},
     "output_type": "execute_result"
    }
   ],
   "source": [
    "lof = LocalOutlierFactor(n_neighbors=3, algorithm='auto', metric='minkowski', p=2, metric_params=None, contamination=0.5, n_jobs=1)\n",
    "\n",
    "outlierArray = lof.fit_predict(FinalData)\n",
    "\n",
    "outlierArray"
   ]
  },
  {
   "cell_type": "markdown",
   "metadata": {},
   "source": [
    "Here, we got an array, where row corresponding to array element 1 in our dataset is an inlier and row corresponding to array element to -1 in our dataset is an oulier"
   ]
  },
  {
   "cell_type": "code",
   "execution_count": 30,
   "metadata": {},
   "outputs": [
    {
     "data": {
      "text/plain": [
       "50000"
      ]
     },
     "execution_count": 30,
     "metadata": {},
     "output_type": "execute_result"
    }
   ],
   "source": [
    "len(outlierArray)"
   ]
  },
  {
   "cell_type": "markdown",
   "metadata": {},
   "source": [
    "## Calculating total number of outlier and inliers"
   ]
  },
  {
   "cell_type": "code",
   "execution_count": 31,
   "metadata": {},
   "outputs": [
    {
     "name": "stdout",
     "output_type": "stream",
     "text": [
      "Total number of outliers = 25000\n",
      "Total number of inliers = 25000\n"
     ]
    }
   ],
   "source": [
    "countOutliers = 0\n",
    "countInliers = 0\n",
    "for i in range(50000):\n",
    "    if outlierArray[i] == -1:\n",
    "        countOutliers += 1\n",
    "    else:\n",
    "        countInliers += 1\n",
    "print(\"Total number of outliers = \"+str(countOutliers))\n",
    "print(\"Total number of inliers = \"+str(countInliers))"
   ]
  },
  {
   "cell_type": "code",
   "execution_count": 32,
   "metadata": {},
   "outputs": [],
   "source": [
    "FinalData2 = FinalData.copy()"
   ]
  },
  {
   "cell_type": "code",
   "execution_count": 33,
   "metadata": {},
   "outputs": [
    {
     "data": {
      "text/plain": [
       "(50000, 31)"
      ]
     },
     "execution_count": 33,
     "metadata": {},
     "output_type": "execute_result"
    }
   ],
   "source": [
    "FinalData2.shape"
   ]
  },
  {
   "cell_type": "markdown",
   "metadata": {},
   "source": [
    "##  Removing Outliers"
   ]
  },
  {
   "cell_type": "code",
   "execution_count": 34,
   "metadata": {},
   "outputs": [
    {
     "data": {
      "text/html": [
       "<div>\n",
       "<style scoped>\n",
       "    .dataframe tbody tr th:only-of-type {\n",
       "        vertical-align: middle;\n",
       "    }\n",
       "\n",
       "    .dataframe tbody tr th {\n",
       "        vertical-align: top;\n",
       "    }\n",
       "\n",
       "    .dataframe thead th {\n",
       "        text-align: right;\n",
       "    }\n",
       "</style>\n",
       "<table border=\"1\" class=\"dataframe\">\n",
       "  <thead>\n",
       "    <tr style=\"text-align: right;\">\n",
       "      <th></th>\n",
       "      <th>Time</th>\n",
       "      <th>V1</th>\n",
       "      <th>V2</th>\n",
       "      <th>V3</th>\n",
       "      <th>V4</th>\n",
       "      <th>V5</th>\n",
       "      <th>V6</th>\n",
       "      <th>V7</th>\n",
       "      <th>V8</th>\n",
       "      <th>V9</th>\n",
       "      <th>...</th>\n",
       "      <th>V21</th>\n",
       "      <th>V22</th>\n",
       "      <th>V23</th>\n",
       "      <th>V24</th>\n",
       "      <th>V25</th>\n",
       "      <th>V26</th>\n",
       "      <th>V27</th>\n",
       "      <th>V28</th>\n",
       "      <th>Amount</th>\n",
       "      <th>Class</th>\n",
       "    </tr>\n",
       "  </thead>\n",
       "  <tbody>\n",
       "    <tr>\n",
       "      <th>0</th>\n",
       "      <td>116071.0</td>\n",
       "      <td>-3.017546</td>\n",
       "      <td>3.427747</td>\n",
       "      <td>-1.665418</td>\n",
       "      <td>-1.145119</td>\n",
       "      <td>-0.132192</td>\n",
       "      <td>-1.182398</td>\n",
       "      <td>0.727843</td>\n",
       "      <td>0.149635</td>\n",
       "      <td>2.390029</td>\n",
       "      <td>...</td>\n",
       "      <td>0.009406</td>\n",
       "      <td>1.103819</td>\n",
       "      <td>0.137768</td>\n",
       "      <td>1.069130</td>\n",
       "      <td>-0.166342</td>\n",
       "      <td>-0.241113</td>\n",
       "      <td>1.576548</td>\n",
       "      <td>0.834218</td>\n",
       "      <td>1.79</td>\n",
       "      <td>0</td>\n",
       "    </tr>\n",
       "    <tr>\n",
       "      <th>1</th>\n",
       "      <td>126210.0</td>\n",
       "      <td>-1.835334</td>\n",
       "      <td>1.039965</td>\n",
       "      <td>-0.198505</td>\n",
       "      <td>-3.795174</td>\n",
       "      <td>0.043655</td>\n",
       "      <td>0.370722</td>\n",
       "      <td>-0.338915</td>\n",
       "      <td>-3.573874</td>\n",
       "      <td>0.472179</td>\n",
       "      <td>...</td>\n",
       "      <td>2.885193</td>\n",
       "      <td>-0.782471</td>\n",
       "      <td>-0.259355</td>\n",
       "      <td>0.060307</td>\n",
       "      <td>1.391360</td>\n",
       "      <td>-0.367646</td>\n",
       "      <td>-0.285800</td>\n",
       "      <td>0.116259</td>\n",
       "      <td>30.14</td>\n",
       "      <td>0</td>\n",
       "    </tr>\n",
       "    <tr>\n",
       "      <th>3</th>\n",
       "      <td>73221.0</td>\n",
       "      <td>-1.334573</td>\n",
       "      <td>-0.516636</td>\n",
       "      <td>2.946869</td>\n",
       "      <td>-0.933457</td>\n",
       "      <td>-1.206642</td>\n",
       "      <td>-0.808740</td>\n",
       "      <td>-0.347681</td>\n",
       "      <td>0.155747</td>\n",
       "      <td>-0.941013</td>\n",
       "      <td>...</td>\n",
       "      <td>-0.001899</td>\n",
       "      <td>0.223181</td>\n",
       "      <td>0.145463</td>\n",
       "      <td>0.908063</td>\n",
       "      <td>0.149216</td>\n",
       "      <td>0.479958</td>\n",
       "      <td>0.249619</td>\n",
       "      <td>0.161935</td>\n",
       "      <td>106.51</td>\n",
       "      <td>0</td>\n",
       "    </tr>\n",
       "    <tr>\n",
       "      <th>5</th>\n",
       "      <td>40824.0</td>\n",
       "      <td>1.223115</td>\n",
       "      <td>-0.001663</td>\n",
       "      <td>0.414027</td>\n",
       "      <td>0.648390</td>\n",
       "      <td>-0.380784</td>\n",
       "      <td>-0.214228</td>\n",
       "      <td>-0.178118</td>\n",
       "      <td>0.066309</td>\n",
       "      <td>0.314373</td>\n",
       "      <td>...</td>\n",
       "      <td>-0.212080</td>\n",
       "      <td>-0.477362</td>\n",
       "      <td>-0.027758</td>\n",
       "      <td>0.031836</td>\n",
       "      <td>0.450561</td>\n",
       "      <td>0.274194</td>\n",
       "      <td>-0.029255</td>\n",
       "      <td>-0.002781</td>\n",
       "      <td>1.00</td>\n",
       "      <td>0</td>\n",
       "    </tr>\n",
       "    <tr>\n",
       "      <th>7</th>\n",
       "      <td>145465.0</td>\n",
       "      <td>-4.555772</td>\n",
       "      <td>-4.086313</td>\n",
       "      <td>0.857538</td>\n",
       "      <td>0.964020</td>\n",
       "      <td>2.854544</td>\n",
       "      <td>-1.747059</td>\n",
       "      <td>-1.490301</td>\n",
       "      <td>0.874183</td>\n",
       "      <td>0.107204</td>\n",
       "      <td>...</td>\n",
       "      <td>0.683354</td>\n",
       "      <td>-0.081873</td>\n",
       "      <td>-0.232008</td>\n",
       "      <td>-1.096160</td>\n",
       "      <td>0.900834</td>\n",
       "      <td>-0.499466</td>\n",
       "      <td>-0.041518</td>\n",
       "      <td>-0.697409</td>\n",
       "      <td>168.00</td>\n",
       "      <td>0</td>\n",
       "    </tr>\n",
       "  </tbody>\n",
       "</table>\n",
       "<p>5 rows × 31 columns</p>\n",
       "</div>"
      ],
      "text/plain": [
       "       Time        V1        V2        V3        V4        V5        V6  \\\n",
       "0  116071.0 -3.017546  3.427747 -1.665418 -1.145119 -0.132192 -1.182398   \n",
       "1  126210.0 -1.835334  1.039965 -0.198505 -3.795174  0.043655  0.370722   \n",
       "3   73221.0 -1.334573 -0.516636  2.946869 -0.933457 -1.206642 -0.808740   \n",
       "5   40824.0  1.223115 -0.001663  0.414027  0.648390 -0.380784 -0.214228   \n",
       "7  145465.0 -4.555772 -4.086313  0.857538  0.964020  2.854544 -1.747059   \n",
       "\n",
       "         V7        V8        V9  ...       V21       V22       V23       V24  \\\n",
       "0  0.727843  0.149635  2.390029  ...  0.009406  1.103819  0.137768  1.069130   \n",
       "1 -0.338915 -3.573874  0.472179  ...  2.885193 -0.782471 -0.259355  0.060307   \n",
       "3 -0.347681  0.155747 -0.941013  ... -0.001899  0.223181  0.145463  0.908063   \n",
       "5 -0.178118  0.066309  0.314373  ... -0.212080 -0.477362 -0.027758  0.031836   \n",
       "7 -1.490301  0.874183  0.107204  ...  0.683354 -0.081873 -0.232008 -1.096160   \n",
       "\n",
       "        V25       V26       V27       V28  Amount  Class  \n",
       "0 -0.166342 -0.241113  1.576548  0.834218    1.79      0  \n",
       "1  1.391360 -0.367646 -0.285800  0.116259   30.14      0  \n",
       "3  0.149216  0.479958  0.249619  0.161935  106.51      0  \n",
       "5  0.450561  0.274194 -0.029255 -0.002781    1.00      0  \n",
       "7  0.900834 -0.499466 -0.041518 -0.697409  168.00      0  \n",
       "\n",
       "[5 rows x 31 columns]"
      ]
     },
     "execution_count": 34,
     "metadata": {},
     "output_type": "execute_result"
    }
   ],
   "source": [
    "for i in range(50000):\n",
    "    if outlierArray[i] == -1:\n",
    "        FinalData.drop(i, inplace = True)\n",
    "FinalData.head()"
   ]
  },
  {
   "cell_type": "code",
   "execution_count": 35,
   "metadata": {},
   "outputs": [
    {
     "data": {
      "text/plain": [
       "(50000, 31)"
      ]
     },
     "execution_count": 35,
     "metadata": {},
     "output_type": "execute_result"
    }
   ],
   "source": [
    "FinalData2.shape"
   ]
  },
  {
   "cell_type": "code",
   "execution_count": 36,
   "metadata": {},
   "outputs": [
    {
     "data": {
      "text/plain": [
       "(25000, 31)"
      ]
     },
     "execution_count": 36,
     "metadata": {},
     "output_type": "execute_result"
    }
   ],
   "source": [
    "FinalData.shape"
   ]
  },
  {
   "cell_type": "code",
   "execution_count": 37,
   "metadata": {},
   "outputs": [
    {
     "data": {
      "image/png": "[encoded data removed]",
      "text/plain": [
       "<Figure size 1152x432 with 2 Axes>"
      ]
     },
     "metadata": {
      "needs_background": "light"
     },
     "output_type": "display_data"
    }
   ],
   "source": [
    "fig = plt.figure(figsize = (16,6))\n",
    "\n",
    "plt.subplot(1, 2, 1)\n",
    "plt.title(\"Before removing outliers for column V1\")\n",
    "ax = sns.boxplot(x=\"Class\", y = \"V1\", data= FinalData2, hue = \"Class\")\n",
    "\n",
    "plt.subplot(1, 2, 2)\n",
    "plt.title(\"After removing outliers for column V1\")\n",
    "ax = sns.boxplot(x=\"Class\", y = \"V1\", data= FinalData, hue = \"Class\")"
   ]
  },
  {
   "cell_type": "code",
   "execution_count": 38,
   "metadata": {},
   "outputs": [
    {
     "data": {
      "image/png": "[encoded data removed]",
      "text/plain": [
       "<Figure size 1152x432 with 2 Axes>"
      ]
     },
     "metadata": {
      "needs_background": "light"
     },
     "output_type": "display_data"
    }
   ],
   "source": [
    "fig = plt.figure(figsize = (16,6))\n",
    "\n",
    "plt.subplot(1, 2, 1)\n",
    "plt.title(\"Before removing outliers for column V2\")\n",
    "ax = sns.boxplot(x=\"Class\", y = \"V2\", data= FinalData2, hue = \"Class\")\n",
    "\n",
    "plt.subplot(1, 2, 2)\n",
    "plt.title(\"After removing outliers for column V2\")\n",
    "ax = sns.boxplot(x=\"Class\", y = \"V2\", data= FinalData, hue = \"Class\")"
   ]
  },
  {
   "cell_type": "code",
   "execution_count": 39,
   "metadata": {},
   "outputs": [
    {
     "data": {
      "image/png": "[encoded data removed]",
      "text/plain": [
       "<Figure size 1152x432 with 2 Axes>"
      ]
     },
     "metadata": {
      "needs_background": "light"
     },
     "output_type": "display_data"
    }
   ],
   "source": [
    "fig = plt.figure(figsize = (16,6))\n",
    "\n",
    "plt.subplot(1, 2, 1)\n",
    "plt.title(\"Before removing outliers for column V3\")\n",
    "ax = sns.boxplot(x=\"Class\", y = \"V3\", data= FinalData2, hue = \"Class\")\n",
    "\n",
    "plt.subplot(1, 2, 2)\n",
    "plt.title(\"After removing outliers for column V3\")\n",
    "ax = sns.boxplot(x=\"Class\", y = \"V3\", data= FinalData, hue = \"Class\")"
   ]
  },
  {
   "cell_type": "code",
   "execution_count": 42,
   "metadata": {},
   "outputs": [
    {
     "data": {
      "image/png": "[encoded data removed]",
      "text/plain": [
       "<Figure size 1152x432 with 2 Axes>"
      ]
     },
     "metadata": {
      "needs_background": "light"
     },
     "output_type": "display_data"
    }
   ],
   "source": [
    "fig = plt.figure(figsize = (16,6))\n",
    "plt.subplot(1, 2, 1)\n",
    "plt.title(\"Before removing outliers for column V4\")\n",
    "ax = sns.boxplot(x=\"Class\", y = \"V4\", data= FinalData2, hue = \"Class\")\n",
    "\n",
    "plt.subplot(1, 2, 2)\n",
    "plt.title(\"After removing outliers for column V4\")\n",
    "ax = sns.boxplot(x=\"Class\", y = \"V4\", data= FinalData, hue = \"Class\")"
   ]
  },
  {
   "cell_type": "code",
   "execution_count": 43,
   "metadata": {},
   "outputs": [
    {
     "data": {
      "image/png": "[encoded data removed]",
      "text/plain": [
       "<Figure size 1152x432 with 2 Axes>"
      ]
     },
     "metadata": {
      "needs_background": "light"
     },
     "output_type": "display_data"
    }
   ],
   "source": [
    "fig = plt.figure(figsize = (16,6))\n",
    "\n",
    "plt.subplot(1, 2, 1)\n",
    "plt.title(\"Before removing outliers for column V5\")\n",
    "ax = sns.boxplot(x=\"Class\", y = \"V5\", data= FinalData2, hue = \"Class\")\n",
    "\n",
    "plt.subplot(1, 2, 2)\n",
    "plt.title(\"After removing outliers for column V5\")\n",
    "ax = sns.boxplot(x=\"Class\", y = \"V5\", data= FinalData, hue = \"Class\")"
   ]
  },
  {
   "cell_type": "markdown",
   "metadata": {},
   "source": [
    "## It can easily be observed in all of the above boxplots corresponding to columns V1, V2, V3, V4, V5, that most of the outliers for points belongs to class 1 has been removed. Furthermore, many of the outliers for points belong to class 0 has also been removed. For example for class 0 in plot 1 for column V1 all of the outliers less than -35 have been removed. Similarly, for class 0 in plot 3 for column V3 all the outliers less than -18 have been removed. Similarly, for class 0 in plot 5 for column V5 all of the outliers greater than 15 have been removed."
   ]
  },
  {
   "cell_type": "code",
   "execution_count": null,
   "metadata": {},
   "outputs": [],
   "source": []
  }
 ],
 "metadata": {
  "kernelspec": {
   "display_name": "Python 3",
   "language": "python",
   "name": "python3"
  },
  "language_info": {
   "codemirror_mode": {
    "name": "ipython",
    "version": 3
   },
   "file_extension": ".py",
   "mimetype": "text/x-python",
   "name": "python",
   "nbconvert_exporter": "python",
   "pygments_lexer": "ipython3",
   "version": "3.8.1"
  }
 },
 "nbformat": 4,
 "nbformat_minor": 4
}
